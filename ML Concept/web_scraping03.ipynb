{
 "cells": [
  {
   "cell_type": "code",
   "execution_count": 1,
   "id": "28d78c36",
   "metadata": {},
   "outputs": [],
   "source": [
    "import pandas as pd\n",
    "import numpy as np\n",
    "import matplotlib.pyplot as plt\n",
    "from bs4 import BeautifulSoup\n",
    "import sys\n",
    "import seaborn as sns\n",
    "import requests\n",
    "import lxml"
   ]
  },
  {
   "cell_type": "code",
   "execution_count": 2,
   "id": "3355133c",
   "metadata": {},
   "outputs": [],
   "source": [
    "headers = {'User-Agent': 'Mozilla/5.0 (Windows NT 6.3; Win64; x64) AppleWebKit/537.36 (KHTML, like Gecko) chrome/80.0.3987.162 Safari/537.36'}\n",
    "page = requests.get('https://www.imdb.com/calendar/?ref_=rlm&region=IN&type=MOVIE',headers=headers).text"
   ]
  },
  {
   "cell_type": "code",
   "execution_count": 3,
   "id": "2e381ee6",
   "metadata": {},
   "outputs": [],
   "source": [
    "soup = BeautifulSoup(page,\"lxml\")"
   ]
  },
  {
   "cell_type": "code",
   "execution_count": 4,
   "id": "8ff844a1",
   "metadata": {},
   "outputs": [],
   "source": [
    "print(soup.prettify())"
   ]
  },
  {
   "cell_type": "code",
   "execution_count": 6,
   "id": "355b193b",
   "metadata": {},
   "outputs": [
    {
     "name": "stdout",
     "output_type": "stream",
     "text": [
      "['A Haunting in Venice (2023)']\n"
     ]
    }
   ],
   "source": [
    "movie_name=[]\n",
    "movie_name.append(soup.find('a',class_=\"ipc-metadata-list-summary-item__t\").text.strip())\n",
    "print(movie_name)"
   ]
  },
  {
   "cell_type": "code",
   "execution_count": 8,
   "id": "101b3fa0",
   "metadata": {},
   "outputs": [
    {
     "name": "stdout",
     "output_type": "stream",
     "text": [
      "A Haunting in Venice (2023)\n"
     ]
    }
   ],
   "source": [
    "for i in range(160):\n",
    "    movie_name.append(soup.find_all('a',class_=\"ipc-metadata-list-summary-item__t\")[i].text.strip())\n",
    "print(movie_name[0])"
   ]
  },
  {
   "cell_type": "code",
   "execution_count": 9,
   "id": "6373f64c",
   "metadata": {},
   "outputs": [
    {
     "name": "stdout",
     "output_type": "stream",
     "text": [
      "A Haunting in Venice\n"
     ]
    }
   ],
   "source": [
    "release_year = []\n",
    "str = movie_name[0]\n",
    "new_str = str[len(str)-7:]\n",
    "str = str[:len(str)-7]\n",
    "str.replace(new_str,'')\n",
    "print(str)"
   ]
  },
  {
   "cell_type": "code",
   "execution_count": 10,
   "id": "4d2269f4",
   "metadata": {},
   "outputs": [],
   "source": [
    "final_movie_name =[]\n",
    "expected_release_year =[]\n",
    "for i in range(160):\n",
    "    str = movie_name[i]\n",
    "    new_str = str[len(str)-7:]\n",
    "    expected_release_year.append(new_str)\n",
    "    str = str[:len(str)-7]\n",
    "    str.replace(new_str,'')\n",
    "    final_movie_name.append(str)\n"
   ]
  },
  {
   "cell_type": "code",
   "execution_count": 11,
   "id": "5dbb3e1d",
   "metadata": {},
   "outputs": [
    {
     "name": "stdout",
     "output_type": "stream",
     "text": [
      "A Haunting in Venice\n"
     ]
    }
   ],
   "source": [
    "print(final_movie_name[0])"
   ]
  },
  {
   "cell_type": "code",
   "execution_count": 12,
   "id": "93085bab",
   "metadata": {},
   "outputs": [
    {
     "name": "stdout",
     "output_type": "stream",
     "text": [
      "[' (2023)', ' (2023)', ' (2023)', ' (2023)', ' (2023)', ' (2023)', ' (2023)', ' (2023)', ' (2023)', ' (2023)', ' (2023)', ' (2023)', ' (2023)', ' (2023)', ' (2023)', ' (2023)', ' (2023)', ' (2023)', ' (2023)', ' (2023)', ' (2023)', ' (2023)', ' (2023)', ' (2023)', ' (2023)', ' (2023)', ' (2023)', ' (2023)', ' (2023)', ' (2023)', ' (2023)', ' (2023)', ' (2023)', ' (2023)', ' (2023)', ' (2023)', ' (2023)', ' (2023)', ' (2023)', ' (2023)', ' (2023)', ' (2023)', ' (2023)', ' (2023)', ' (2023)', ' (2023)', ' (2023)', ' (2023)', ' (2023)', ' (2023)', ' (2023)', ' (2023)', ' (2023)', ' (2023)', ' (2023)', ' (2023)', ' (2023)', ' (2023)', ' (2023)', ' (2023)', ' (2023)', ' (2023)', ' (2023)', ' (2023)', ' (2023)', ' (2023)', ' (2023)', ' (2023)', ' (2023)', ' (2023)', ' (2016)', ' (2023)', ' (2023)', ' (2023)', ' (2023)', ' (2023)', ' (2023)', ' (2023)', ' (2023)', ' (2023)', ' (2023)', ' (2023)', ' (2023)', ' (2023)', ' (2023)', ' (2023)', ' (2023)', ' (2023)', ' (2023)', ' (2022)', ' (2023)', ' (2023)', ' (2023)', ' (2023)', ' (2023)', ' (2023)', ' (2023)', ' (2023)', ' (2023)', ' (2023)', ' (2023)', ' (2023)', ' (2023)', ' (2023)', ' (2023)', ' (2023)', ' (2023)', ' (2023)', ' (2023)', ' (2023)', ' (2023)', ' (2023)', ' (2023)', ' (2023)', ' (2023)', ' (2023)', ' (2023)', ' (2023)', ' (2023)', ' (2023)', ' (2023)', ' (2023)', ' (2023)', ' (2023)', ' (2023)', ' (2023)', ' (2023)', ' (2023)', ' (2023)', ' (2023)', ' (2023)', ' (2024)', ' (2024)', ' (2024)', ' (2023)', ' (2024)', ' (2024)', ' (2024)', ' (2024)', ' (2024)', ' (2024)', ' (2024)', ' (2024)', ' (2024)', ' (2024)', ' (2024)', ' (2024)', ' (2024)', ' (2024)', ' (2024)', ' (2024)', ' (2024)', ' (2024)', ' (2024)', ' (2024)', ' (2024)', ' (2024)', ' (2024)', ' (2024)', ' (2024)']\n"
     ]
    }
   ],
   "source": [
    "print(expected_release_year)"
   ]
  },
  {
   "cell_type": "code",
   "execution_count": 13,
   "id": "2afa6474",
   "metadata": {},
   "outputs": [],
   "source": [
    "final_release_year = []\n",
    "a = int(expected_release_year[0][2:len(expected_release_year[0])-1])"
   ]
  },
  {
   "cell_type": "code",
   "execution_count": 17,
   "id": "6d769139",
   "metadata": {},
   "outputs": [],
   "source": [
    "print(final_release_year)\n",
    "print(a)\n",
    "type(a)"
   ]
  },
  {
   "cell_type": "code",
   "execution_count": 19,
   "id": "3ad122fc",
   "metadata": {},
   "outputs": [],
   "source": [
    "for i in range(160):\n",
    "    final_release_year.append(int(expected_release_year[i][2:len(expected_release_year[i])-1]))\n",
    "final_release_year"
   ]
  },
  {
   "cell_type": "code",
   "execution_count": 20,
   "id": "c44d6ba9",
   "metadata": {},
   "outputs": [
    {
     "data": {
      "text/plain": [
       "'Baanadariyalli'"
      ]
     },
     "execution_count": 20,
     "metadata": {},
     "output_type": "execute_result"
    }
   ],
   "source": [
    "final_movie_name[10]"
   ]
  },
  {
   "cell_type": "code",
   "execution_count": 21,
   "id": "0699c67a",
   "metadata": {},
   "outputs": [
    {
     "name": "stdout",
     "output_type": "stream",
     "text": [
      "147\n"
     ]
    }
   ],
   "source": [
    "movie_info =[]\n",
    "for i in range(147):\n",
    "    ul =soup.find_all('ul',class_=\"ipc-inline-list ipc-inline-list--show-dividers ipc-inline-list--no-wrap ipc-inline-list--inline ipc-metadata-list-summary-item__tl base\")[i]\n",
    "    movie_info.append(ul)\n",
    "print(len(movie_info))"
   ]
  },
  {
   "cell_type": "code",
   "execution_count": 22,
   "id": "8cb85c60",
   "metadata": {},
   "outputs": [
    {
     "name": "stdout",
     "output_type": "stream",
     "text": [
      "<ul class=\"ipc-inline-list ipc-inline-list--show-dividers ipc-inline-list--no-wrap ipc-inline-list--inline ipc-metadata-list-summary-item__tl base\" role=\"presentation\"><li class=\"ipc-inline-list__item\" role=\"presentation\"><span aria-disabled=\"false\" class=\"ipc-metadata-list-summary-item__li\">Action</span></li><li class=\"ipc-inline-list__item\" role=\"presentation\"><span aria-disabled=\"false\" class=\"ipc-metadata-list-summary-item__li\">Comedy</span></li><li class=\"ipc-inline-list__item\" role=\"presentation\"><span aria-disabled=\"false\" class=\"ipc-metadata-list-summary-item__li\">Drama</span></li></ul>\n"
     ]
    }
   ],
   "source": [
    "print(movie_info[1])"
   ]
  },
  {
   "cell_type": "code",
   "execution_count": 23,
   "id": "66e6e113",
   "metadata": {},
   "outputs": [
    {
     "data": {
      "text/plain": [
       "147"
      ]
     },
     "execution_count": 23,
     "metadata": {},
     "output_type": "execute_result"
    }
   ],
   "source": [
    "info_list =[]\n",
    "for i in range(147):\n",
    "    \n",
    "    info_list.append(soup.find_all('ul',class_=\"ipc-inline-list ipc-inline-list--show-dividers ipc-inline-list--no-wrap ipc-inline-list--inline ipc-metadata-list-summary-item__tl base\")[i])\n",
    "\n",
    "len(info_list)"
   ]
  },
  {
   "cell_type": "code",
   "execution_count": 24,
   "id": "ffa64f07",
   "metadata": {},
   "outputs": [
    {
     "name": "stdout",
     "output_type": "stream",
     "text": [
      "CrimeDramaHorror \n",
      "ActionComedyDrama \n",
      "Drama \n",
      "ActionDramaThriller \n",
      "BiographyDrama \n",
      "ActionCrimeDrama \n",
      "Mystery \n",
      "ComedyDramaRomance \n",
      "Comedy \n",
      "Drama \n",
      "Thriller \n",
      "Thriller \n",
      "CrimeThriller \n",
      "Drama \n",
      "Action \n",
      "Drama \n",
      "CrimeThriller \n",
      "Drama \n",
      "Comedy \n",
      "DramaFantasyMystery \n",
      "Animation \n",
      "ActionAdventureMystery \n",
      "DramaRomance \n",
      "Romance \n",
      "Biography \n",
      "Family \n",
      "ComedyCrimeDrama \n",
      "ComedyDramaHorror \n",
      "Drama \n",
      "DramaHorrorThriller \n",
      "ActionDramaRomance \n",
      "ActionCrimeDrama \n",
      "DramaThriller \n",
      "ComedyDrama \n",
      "DramaThriller \n",
      "ComedyDrama \n",
      "Biography \n",
      "DramaFamily \n",
      "ActionDramaFamily \n",
      "Biography \n",
      "Drama \n",
      "ActionThriller \n",
      "Drama \n",
      "Comedy \n",
      "BiographyDramaHistory \n",
      "Romance \n",
      "Drama \n",
      "ComedyDrama \n",
      "ActionCrimeThriller \n",
      "ActionDrama \n",
      "ComedyDramaFamily \n",
      "Romance \n",
      "CrimeDramaThriller \n",
      "Action \n",
      "AnimationActionAdventure \n",
      "Drama \n",
      "ComedyDrama \n",
      "Drama \n",
      "ActionHorrorMystery \n",
      "ActionCrimeDrama \n",
      "ActionThriller \n",
      "ActionDrama \n",
      "Thriller \n",
      "BiographyHistory \n",
      "ActionDramaSci-Fi \n",
      "ComedyDramaMusical \n",
      "DramaRomance \n",
      "ActionBiographyCrime \n",
      "Comedy \n",
      "AdventureDrama \n",
      "ActionDramaThriller \n",
      "Thriller \n",
      "ActionComedyDrama \n",
      "ActionBiographyDrama \n",
      "Drama \n",
      "Drama \n",
      "ComedyDrama \n",
      "ActionFantasy \n",
      "Comedy \n",
      "Drama \n",
      "ActionThriller \n",
      "ComedyRomance \n",
      "ActionAdventureThriller \n",
      "ActionAdventureSci-Fi \n",
      "ActionDrama \n",
      "ComedyDrama \n",
      "Action \n",
      "ActionComedyDrama \n",
      "AnimationAdventureComedy \n",
      "ActionAdventureComedy \n",
      "DramaHistory \n",
      "ActionHistoryThriller \n",
      "Drama \n",
      "ActionCrimeDrama \n",
      "BiographyDramaWar \n",
      "Drama \n",
      "DramaRomance \n",
      "ActionMysteryThriller \n",
      "ActionDramaThriller \n",
      "Drama \n",
      "DramaThriller \n",
      "ActionDramaThriller \n",
      "ActionAdventureDrama \n",
      "Comedy \n",
      "ActionAdventureFantasy \n",
      "DramaFamilyRomance \n",
      "Romance \n",
      "ComedyDrama \n",
      "ActionRomance \n",
      "ActionCrimeDrama \n",
      "Action \n",
      "DramaRomance \n",
      "ComedyDrama \n",
      "ActionHistoryMystery \n",
      "DramaThriller \n",
      "ActionDramaFantasy \n",
      "Drama \n",
      "ActionAdventureFantasy \n",
      "ActionThriller \n",
      "ActionDramaFamily \n",
      "ActionComedyDrama \n",
      "ActionAdventureThriller \n",
      "Comedy \n",
      "ActionDramaThriller \n",
      "ActionDrama \n",
      "ComedyCrimeDrama \n",
      "ComedyRomance \n",
      "HorrorThriller \n",
      "Action \n",
      "ActionAdventureDrama \n",
      "Drama \n",
      "ComedyDrama \n",
      "DramaRomance \n",
      "DramaRomance \n",
      "Drama \n",
      "ActionDramaThriller \n",
      "CrimeDrama \n",
      "ActionComedyThriller \n",
      "ActionAdventureDrama \n",
      "ActionSci-Fi \n",
      "ActionDrama \n",
      "BiographyDramaSport \n",
      "Drama \n",
      "ActionCrimeDrama \n",
      "Drama \n",
      "CrimeDrama \n",
      "ComedyHorror \n"
     ]
    }
   ],
   "source": [
    "for i in info_list:\n",
    "    print(i.text+\" \")"
   ]
  },
  {
   "cell_type": "code",
   "execution_count": 25,
   "id": "aca51462",
   "metadata": {},
   "outputs": [
    {
     "data": {
      "text/plain": [
       "'BiographyDrama'"
      ]
     },
     "execution_count": 25,
     "metadata": {},
     "output_type": "execute_result"
    }
   ],
   "source": [
    "sn = soup.find_all('ul',class_=\"ipc-inline-list ipc-inline-list--show-dividers ipc-inline-list--no-wrap ipc-inline-list--inline ipc-metadata-list-summary-item__tl base\")[4]\n",
    "sn.text"
   ]
  },
  {
   "cell_type": "code",
   "execution_count": 26,
   "id": "628cba18",
   "metadata": {},
   "outputs": [
    {
     "name": "stdout",
     "output_type": "stream",
     "text": [
      "Joseph VijayPrabhu DevaJai\n"
     ]
    }
   ],
   "source": [
    "movie_artist =[]\n",
    "for i in range(160):\n",
    "    movie_artist.append(soup.find_all('ul',class_=\"ipc-inline-list ipc-inline-list--show-dividers ipc-inline-list--no-wrap ipc-inline-list--inline ipc-metadata-list-summary-item__stl base\")[i])\n",
    "print(movie_artist[159].text)"
   ]
  },
  {
   "cell_type": "code",
   "execution_count": 27,
   "id": "44630509",
   "metadata": {},
   "outputs": [],
   "source": [
    "df = pd.DataFrame()"
   ]
  }
 ],
 "metadata": {
  "kernelspec": {
   "display_name": "Python 3 (ipykernel)",
   "language": "python",
   "name": "python3"
  },
  "language_info": {
   "codemirror_mode": {
    "name": "ipython",
    "version": 3
   },
   "file_extension": ".py",
   "mimetype": "text/x-python",
   "name": "python",
   "nbconvert_exporter": "python",
   "pygments_lexer": "ipython3",
   "version": "3.8.10"
  }
 },
 "nbformat": 4,
 "nbformat_minor": 5
}
