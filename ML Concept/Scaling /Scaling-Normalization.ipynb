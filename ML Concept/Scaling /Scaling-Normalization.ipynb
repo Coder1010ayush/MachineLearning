{
 "cells": [
  {
   "cell_type": "code",
   "execution_count": 61,
   "id": "fa11b6cf",
   "metadata": {},
   "outputs": [],
   "source": [
    "import numpy as np\n",
    "import pandas as pd\n",
    "import requests\n",
    "import matplotlib.pyplot as plt\n",
    "import seaborn as sns\n"
   ]
  },
  {
   "cell_type": "code",
   "execution_count": 62,
   "id": "1a8a369a",
   "metadata": {},
   "outputs": [],
   "source": [
    "df = pd.read_csv('datasets/Salary_Data.csv')"
   ]
  },
  {
   "cell_type": "code",
   "execution_count": 63,
   "id": "0afb1fbb",
   "metadata": {},
   "outputs": [
    {
     "name": "stdout",
     "output_type": "stream",
     "text": [
      "    YearsExperience    Salary\n",
      "10              3.9   63218.0\n",
      "6               3.0   60150.0\n",
      "1               1.3   46205.0\n",
      "28             10.3  122391.0\n",
      "24              8.7  109431.0\n",
      "4               2.2   39891.0\n",
      "11              4.0   55794.0\n",
      "23              8.2  113812.0\n",
      "18              5.9   81363.0\n",
      "21              7.1   98273.0\n"
     ]
    },
    {
     "data": {
      "text/plain": [
       "66029.0"
      ]
     },
     "execution_count": 63,
     "metadata": {},
     "output_type": "execute_result"
    }
   ],
   "source": [
    "print(df.sample(10))\n",
    "df.shape\n",
    "df['Salary'][16]"
   ]
  },
  {
   "cell_type": "code",
   "execution_count": 70,
   "id": "5d4225ab",
   "metadata": {},
   "outputs": [],
   "source": [
    "class Normalizer:\n",
    "    def __init__(self):\n",
    "        pass\n",
    "    \n",
    "    def min_element(self,df):\n",
    "        np_array = df.to_numpy(dtype='float32')\n",
    "        return np.min(np_array)\n",
    "    \n",
    "    def max_element(self,df):\n",
    "        np_array = df.to_numpy(dtype='float32')\n",
    "        return np.max(np_array)\n",
    "    \n",
    "    def mean_of_elements(self,df):\n",
    "        np_array = df.to_numpy(dtype='float32')\n",
    "        sum = np.sum(np_array)\n",
    "        return sum/np.size(np_array)\n",
    "    \n",
    "    def median_of_elements(self,df):\n",
    "        np_array = df.to_numpy()\n",
    "        np.sort(np_array)\n",
    "        size = np.size(np_array)\n",
    "        if(np.size(np_array) %2==0):\n",
    "            f1 = np_array[int(size/2)]\n",
    "            f2 = np_array[int(size/2+1)]\n",
    "            median = float((f1+f2)/2)\n",
    "            return median\n",
    "        else:\n",
    "            median = np_array[size/2]\n",
    "            return median\n",
    "        \n",
    "    def transform(self,df):\n",
    "        np_array = df.to_numpy(dtype='float32')\n",
    "        min = self.min_element(df)\n",
    "        max = self.max_element(df)\n",
    "        for i in range(np.size(np_array)):\n",
    "            np_array[i] = (np_array[i]-min)/(max-min)\n",
    "        return np_array\n",
    "    \n",
    "    "
   ]
  },
  {
   "cell_type": "code",
   "execution_count": 71,
   "id": "222e40dd",
   "metadata": {},
   "outputs": [
    {
     "data": {
      "text/plain": [
       "37731.0"
      ]
     },
     "execution_count": 71,
     "metadata": {},
     "output_type": "execute_result"
    }
   ],
   "source": [
    "normal = Normalizer()\n",
    "normal.min_element(df['Salary'])"
   ]
  },
  {
   "cell_type": "code",
   "execution_count": 72,
   "id": "82ba2a54",
   "metadata": {},
   "outputs": [
    {
     "data": {
      "text/plain": [
       "122391.0"
      ]
     },
     "execution_count": 72,
     "metadata": {},
     "output_type": "execute_result"
    }
   ],
   "source": [
    "normal.max_element(df['Salary'])"
   ]
  },
  {
   "cell_type": "code",
   "execution_count": 73,
   "id": "dbe8cc5e",
   "metadata": {},
   "outputs": [
    {
     "data": {
      "text/plain": [
       "76003.0"
      ]
     },
     "execution_count": 73,
     "metadata": {},
     "output_type": "execute_result"
    }
   ],
   "source": [
    "normal.mean_of_elements(df['Salary'])"
   ]
  },
  {
   "cell_type": "code",
   "execution_count": 74,
   "id": "83fe3233",
   "metadata": {},
   "outputs": [
    {
     "data": {
      "text/plain": [
       "66983.5"
      ]
     },
     "execution_count": 74,
     "metadata": {},
     "output_type": "execute_result"
    }
   ],
   "source": [
    "normal.median_of_elements(df['Salary'])"
   ]
  },
  {
   "cell_type": "code",
   "execution_count": 103,
   "id": "a41d6db8",
   "metadata": {},
   "outputs": [
    {
     "name": "stdout",
     "output_type": "stream",
     "text": [
      "    Experience    Salary\n",
      "0     0.000000  0.019041\n",
      "1     0.021277  0.100094\n",
      "2     0.042553  0.000000\n",
      "3     0.095745  0.068438\n",
      "4     0.117021  0.025514\n",
      "5     0.191489  0.223376\n",
      "6     0.202128  0.264812\n",
      "7     0.223404  0.197425\n",
      "8     0.223404  0.315545\n",
      "9     0.276596  0.229837\n",
      "10    0.297872  0.301051\n",
      "11    0.308511  0.213359\n",
      "12    0.308511  0.227097\n",
      "13    0.319149  0.228561\n",
      "14    0.361702  0.276163\n",
      "15    0.404255  0.356804\n",
      "16    0.425532  0.334255\n",
      "17    0.446809  0.535755\n",
      "18    0.510638  0.515379\n",
      "19    0.521277  0.663938\n",
      "20    0.606383  0.637928\n",
      "21    0.638298  0.715119\n",
      "22    0.723404  0.750898\n",
      "23    0.755319  0.898665\n",
      "24    0.808511  0.846917\n",
      "25    0.840426  0.801453\n",
      "26    0.893617  0.935956\n",
      "27    0.904255  0.884763\n",
      "28    0.978723  1.000000\n",
      "29    1.000000  0.993870\n"
     ]
    }
   ],
   "source": [
    "salary = normal.transform(df['Salary'])\n",
    "experience = normal.transform(df['YearsExperience'])\n",
    "data ={\n",
    "    'Experience':experience,\n",
    "    'Salary':salary\n",
    "}\n",
    "dataset = pd.DataFrame(data)\n",
    "print(dataset.to_string())"
   ]
  },
  {
   "cell_type": "code",
   "execution_count": 105,
   "id": "8391f0d2",
   "metadata": {},
   "outputs": [
    {
     "data": {
      "text/plain": [
       "<Axes: xlabel='Salary', ylabel='count'>"
      ]
     },
     "execution_count": 105,
     "metadata": {},
     "output_type": "execute_result"
    },
    {
     "data": {
      "image/png": "[encoded data removed]",
      "text/plain": [
       "<Figure size 432x288 with 1 Axes>"
      ]
     },
     "metadata": {
      "needs_background": "light"
     },
     "output_type": "display_data"
    }
   ],
   "source": [
    "sns.countplot(data=dataset,x='Salary')"
   ]
  },
  {
   "cell_type": "code",
   "execution_count": 107,
   "id": "b188c99d",
   "metadata": {},
   "outputs": [
    {
     "data": {
      "image/png": "[encoded data removed]",
      "text/plain": [
       "<Figure size 432x288 with 1 Axes>"
      ]
     },
     "metadata": {
      "needs_background": "light"
     },
     "output_type": "display_data"
    }
   ],
   "source": [
    "plt.scatter(dataset['Salary'],dataset['Experience'])\n",
    "plt.title('After transformation')\n",
    "plt.show()"
   ]
  },
  {
   "cell_type": "code",
   "execution_count": 109,
   "id": "5798abda",
   "metadata": {},
   "outputs": [
    {
     "data": {
      "image/png": "[encoded data removed]",
      "text/plain": [
       "<Figure size 432x288 with 1 Axes>"
      ]
     },
     "metadata": {
      "needs_background": "light"
     },
     "output_type": "display_data"
    }
   ],
   "source": [
    "plt.scatter(df['Salary'],df['YearsExperience'])\n",
    "plt.title('Before transformation')\n",
    "plt.show()"
   ]
  },
  {
   "cell_type": "code",
   "execution_count": null,
   "id": "3b080d89",
   "metadata": {},
   "outputs": [],
   "source": []
  }
 ],
 "metadata": {
  "kernelspec": {
   "display_name": "Python 3 (ipykernel)",
   "language": "python",
   "name": "python3"
  },
  "language_info": {
   "codemirror_mode": {
    "name": "ipython",
    "version": 3
   },
   "file_extension": ".py",
   "mimetype": "text/x-python",
   "name": "python",
   "nbconvert_exporter": "python",
   "pygments_lexer": "ipython3",
   "version": "3.11.4"
  }
 },
 "nbformat": 4,
 "nbformat_minor": 5
}
