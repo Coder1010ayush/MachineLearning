{
 "cells": [
  {
   "cell_type": "code",
   "execution_count": 6,
   "id": "e3f7ed72",
   "metadata": {},
   "outputs": [],
   "source": [
    "import numpy as np\n",
    "import matplotlib.pyplot as plt\n",
    "import requests\n",
    "from bs4 import BeautifulSoup\n",
    "import pandas as pd\n"
   ]
  },
  {
   "cell_type": "code",
   "execution_count": 18,
   "id": "f8a82fab",
   "metadata": {},
   "outputs": [],
   "source": [
    "class Standardization:\n",
    "    def __init__(self):\n",
    "        pass\n",
    "    \n",
    "    def mean_of_list_element(self,df):\n",
    "        group = df.to_numpy(dtype='float32')\n",
    "        sum=0\n",
    "        for i in group:\n",
    "            sum += i;\n",
    "        return sum/len(group)\n",
    "    def mean_of_list_elements(self,df):\n",
    "        group = df.to_numpy(dtype='float32')\n",
    "        return group.sum(dtype='int32')/len(group)\n",
    "    \n",
    "    def median_of_group(self,df):\n",
    "        group = df.to_numpy(dtype='float32')\n",
    "        np.sort(group)\n",
    "        if(len(group) %2==0):\n",
    "            median = (group[len(group)/2]+group[len(group)/2+1])/2\n",
    "            return median\n",
    "        else:\n",
    "            return group[len(group)/2];\n",
    "    \n",
    "    \n",
    "  \n",
    "        "
   ]
  },
  {
   "cell_type": "code",
   "execution_count": 19,
   "id": "93f9e6cc",
   "metadata": {},
   "outputs": [
    {
     "name": "stdout",
     "output_type": "stream",
     "text": [
      "0.36363636363636365\n"
     ]
    },
    {
     "data": {
      "text/plain": [
       "0.36363636363636365"
      ]
     },
     "execution_count": 19,
     "metadata": {},
     "output_type": "execute_result"
    }
   ],
   "source": [
    "std = Standardization()\n",
    "df = pd.read_csv('titanic.csv')\n",
    "\n",
    "print(std.mean_of_list_element(df['Survived']))\n",
    "std.mean_of_list_elements(df['Survived'])\n"
   ]
  },
  {
   "cell_type": "code",
   "execution_count": null,
   "id": "9fcc9248",
   "metadata": {},
   "outputs": [],
   "source": []
  }
 ],
 "metadata": {
  "kernelspec": {
   "display_name": "Python 3 (ipykernel)",
   "language": "python",
   "name": "python3"
  },
  "language_info": {
   "codemirror_mode": {
    "name": "ipython",
    "version": 3
   },
   "file_extension": ".py",
   "mimetype": "text/x-python",
   "name": "python",
   "nbconvert_exporter": "python",
   "pygments_lexer": "ipython3",
   "version": "3.11.4"
  }
 },
 "nbformat": 4,
 "nbformat_minor": 5
}
