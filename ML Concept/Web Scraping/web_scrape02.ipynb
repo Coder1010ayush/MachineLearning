{
 "cells": [
  {
   "cell_type": "code",
   "execution_count": 1,
   "id": "844c546c",
   "metadata": {},
   "outputs": [],
   "source": [
    "import numpy as np\n",
    "import pandas as pd\n",
    "import requests\n",
    "import lxml\n",
    "from bs4 import BeautifulSoup\n"
   ]
  },
  {
   "cell_type": "code",
   "execution_count": 2,
   "id": "5daa8433",
   "metadata": {},
   "outputs": [],
   "source": [
    "headers = {'User-Agent': 'Mozilla/5.0 (Windows NT 6.3; Win64; x64) AppleWebKit/537.36 (KHTML, like Gecko) chrome/80.0.3987.162 Safari/537.36'}\n",
    "page = requests.get('https://www.ambitionbox.com/list-of-companies?page=1',headers=headers).text"
   ]
  },
  {
   "cell_type": "code",
   "execution_count": null,
   "id": "53af5f86",
   "metadata": {},
   "outputs": [],
   "source": [
    "dataset = pd.DataFrame()\n",
    "for m in range(1,33):\n",
    "    headers = {'User-Agent': 'Mozilla/5.0 (Windows NT 6.3; Win64; x64) AppleWebKit/537.36 (KHTML, like Gecko) chrome/80.0.3987.162 Safari/537.36'}\n",
    "    page = requests.get('https://www.ambitionbox.com/list-of-companies?page={}'.format(m),headers=headers).text\n",
    "    sp = BeautifulSoup(page,\"lxml\")\n",
    "  #  company = sp.find_all('div',class_='companyCardWrapper')\n",
    "    name=[]\n",
    "    rating=[]\n",
    "    reviews=[]\n",
    "    jobs=[]\n",
    "    salary_average=[]\n",
    "    re = sp.find_all('span',class_='companyCardWrapper__ActionCount')\n",
    "    company = sp.find_all('div',class_='companyCardWrapper')\n",
    "    name=[]\n",
    "    rating=[]\n",
    "    reviews=[]\n",
    "    jobs=[]\n",
    "    salary_average=[]\n",
    "    for i in range(0,20):\n",
    "        name.append(sp.find_all('h2',class_='companyCardWrapper__companyName')[i].text.strip())\n",
    "    for i in range(0,20):\n",
    "        rating.append(sp.find_all('span',class_='companyCardWrapper__companyRatingValue')[i].text.strip())\n",
    "\n",
    "    for i in range(0,20):\n",
    "        reviews.append(sp.find_all('span',class_='companyCardWrapper__ActionCount')[i].text.strip())\n",
    "    for i in range(1,120,6):\n",
    "        salary_average.append((re[i].text.strip()))\n",
    "    data = {\n",
    "        'name':name,\n",
    "        'rating':rating,\n",
    "        'salary':salary_average,\n",
    "        'reviews':reviews\n",
    "        }\n",
    "    df = pd.DataFrame(data)\n",
    "    dataset = pd.concat([dataset,df],ignore_index=True)\n"
   ]
  },
  {
   "cell_type": "code",
   "execution_count": null,
   "id": "5a5a7308",
   "metadata": {},
   "outputs": [],
   "source": [
    "print(dataset)"
   ]
  },
  {
   "cell_type": "code",
   "execution_count": null,
   "id": "49f09068",
   "metadata": {},
   "outputs": [],
   "source": [
    "print(dataset.head())\n"
   ]
  },
  {
   "cell_type": "code",
   "execution_count": null,
   "id": "866732c7",
   "metadata": {},
   "outputs": [],
   "source": [
    "print(dataset.info)"
   ]
  },
  {
   "cell_type": "code",
   "execution_count": null,
   "id": "ce9b34ce",
   "metadata": {},
   "outputs": [],
   "source": [
    "dataset.head()"
   ]
  },
  {
   "cell_type": "code",
   "execution_count": null,
   "id": "29ce19cd",
   "metadata": {},
   "outputs": [],
   "source": [
    "dataset.to_csv('company_info.csv')"
   ]
  }
 ],
 "metadata": {
  "kernelspec": {
   "display_name": "Python 3 (ipykernel)",
   "language": "python",
   "name": "python3"
  },
  "language_info": {
   "codemirror_mode": {
    "name": "ipython",
    "version": 3
   },
   "file_extension": ".py",
   "mimetype": "text/x-python",
   "name": "python",
   "nbconvert_exporter": "python",
   "pygments_lexer": "ipython3",
   "version": "3.8.10"
  }
 },
 "nbformat": 4,
 "nbformat_minor": 5
}
