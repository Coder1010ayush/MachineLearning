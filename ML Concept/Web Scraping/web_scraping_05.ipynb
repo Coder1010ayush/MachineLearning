{
 "cells": [
  {
   "cell_type": "code",
   "execution_count": 39,
   "id": "ee858532-4e04-46e9-87cb-c50479485c35",
   "metadata": {},
   "outputs": [],
   "source": [
    "import pandas as pd\n",
    "import lxml\n",
    "import numpy as np\n",
    "import matplotlib.pyplot as plt\n",
    "import seaborn as sns\n",
    "from bs4 import BeautifulSoup\n",
    "import requests"
   ]
  },
  {
   "cell_type": "code",
   "execution_count": 40,
   "id": "7cb95da8-3c1b-4604-9a26-2b7690e04244",
   "metadata": {},
   "outputs": [],
   "source": [
    "headers = {'User-Agent': 'Mozilla/5.0 (Windows NT 6.3; Win64; x64) AppleWebKit/537.36 (KHTML, like Gecko) chrome/80.0.3987.162 Safari/537.36'}\n",
    "page = requests.get('https://www.google.com/maps/search/Restaurants/@28.5382429,77.139422,14z/data=!4m2!2m1!6e5?entry=ttu',headers=headers).text"
   ]
  },
  {
   "cell_type": "code",
   "execution_count": 44,
   "id": "eadfe690-f04b-4da8-9e25-495468013c33",
   "metadata": {},
   "outputs": [
    {
     "name": "stdout",
     "output_type": "stream",
     "text": [
      "<div id=\"XvQR9b\"> <div class=\"wSgKnf\"> <div> When you have eliminated the <strong>JavaScript</strong>, whatever remains must be an empty page. </div> <a class=\"hl4GXb\" href=\"https://support.google.com/maps/?hl=en&amp;authuser=0&amp;p=no_javascript\" target=\"_blank\">Enable JavaScript to see Google Maps.</a> </div> </div>\n"
     ]
    }
   ],
   "source": [
    "soup = BeautifulSoup(page,\"lxml\")\n",
    "print(soup.div)"
   ]
  },
  {
   "cell_type": "code",
   "execution_count": 43,
   "id": "0235bb1e-ca89-43df-b358-e29e643a5199",
   "metadata": {},
   "outputs": [
    {
     "ename": "IndexError",
     "evalue": "list index out of range",
     "output_type": "error",
     "traceback": [
      "\u001b[0;31m---------------------------------------------------------------------------\u001b[0m",
      "\u001b[0;31mIndexError\u001b[0m                                Traceback (most recent call last)",
      "Cell \u001b[0;32mIn[43], line 3\u001b[0m\n\u001b[1;32m      1\u001b[0m container \u001b[38;5;241m=\u001b[39m []\n\u001b[1;32m      2\u001b[0m \u001b[38;5;28;01mfor\u001b[39;00m i \u001b[38;5;129;01min\u001b[39;00m \u001b[38;5;28mrange\u001b[39m(\u001b[38;5;241m10\u001b[39m,\u001b[38;5;241m20\u001b[39m):\n\u001b[0;32m----> 3\u001b[0m     container\u001b[38;5;241m.\u001b[39mappend(\u001b[43msoup\u001b[49m\u001b[38;5;241;43m.\u001b[39;49m\u001b[43mfind_all\u001b[49m\u001b[43m(\u001b[49m\u001b[38;5;124;43m'\u001b[39;49m\u001b[38;5;124;43mdiv\u001b[39;49m\u001b[38;5;124;43m'\u001b[39;49m\u001b[43m,\u001b[49m\u001b[43mclass_\u001b[49m\u001b[38;5;241;43m=\u001b[39;49m\u001b[38;5;124;43m\"\u001b[39;49m\u001b[38;5;124;43mNv2PK THOPZb CpccDe\u001b[39;49m\u001b[38;5;124;43m\"\u001b[39;49m\u001b[43m)\u001b[49m\u001b[43m[\u001b[49m\u001b[43mi\u001b[49m\u001b[43m]\u001b[49m)\n",
      "\u001b[0;31mIndexError\u001b[0m: list index out of range"
     ]
    }
   ],
   "source": [
    "container = []\n",
    "for i in range(10,20):\n",
    "    container.append(soup.find_all('div',class_=\"Nv2PK THOPZb CpccDe\")[i])"
   ]
  },
  {
   "cell_type": "code",
   "execution_count": null,
   "id": "78700141-5021-4890-8c2e-4f740f38d571",
   "metadata": {},
   "outputs": [],
   "source": []
  }
 ],
 "metadata": {
  "kernelspec": {
   "display_name": "Python 3 (ipykernel)",
   "language": "python",
   "name": "python3"
  },
  "language_info": {
   "codemirror_mode": {
    "name": "ipython",
    "version": 3
   },
   "file_extension": ".py",
   "mimetype": "text/x-python",
   "name": "python",
   "nbconvert_exporter": "python",
   "pygments_lexer": "ipython3",
   "version": "3.8.10"
  }
 },
 "nbformat": 4,
 "nbformat_minor": 5
}
