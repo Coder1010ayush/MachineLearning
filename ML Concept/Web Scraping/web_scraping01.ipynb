{
 "cells": [
  {
   "cell_type": "code",
   "execution_count": 1,
   "id": "76a69ab9",
   "metadata": {},
   "outputs": [
    {
     "name": "stdout",
     "output_type": "stream",
     "text": [
      "Requirement already satisfied: beautifulsoup4 in /home/ayush/.local/lib/python3.8/site-packages (4.12.2)\n",
      "Requirement already satisfied: soupsieve>1.2 in /home/ayush/.local/lib/python3.8/site-packages (from beautifulsoup4) (2.5)\n",
      "Requirement already satisfied: lxml in /home/ayush/.local/lib/python3.8/site-packages (4.9.3)\n"
     ]
    }
   ],
   "source": [
    "!pip install beautifulsoup4\n",
    "!pip install lxml\n",
    "import pandas as pd\n",
    "import numpy as np\n",
    "import requests\n",
    "from bs4 import BeautifulSoup\n",
    "import lxml"
   ]
  },
  {
   "cell_type": "code",
   "execution_count": 2,
   "id": "f3e481dc",
   "metadata": {},
   "outputs": [],
   "source": [
    "headers = {'User-Agent': 'Mozilla/5.0 (Windows NT 6.3; Win64; x64) AppleWebKit/537.36 (KHTML, like Gecko) chrome/80.0.3987.162 Safari/537.36'}\n",
    "page = requests.get('https://www.ambitionbox.com/list-of-companies?page=1',headers=headers).text"
   ]
  },
  {
   "cell_type": "code",
   "execution_count": 3,
   "id": "f1b30f56",
   "metadata": {},
   "outputs": [],
   "source": [
    "sp = BeautifulSoup(page,\"lxml\")"
   ]
  },
  {
   "cell_type": "code",
   "execution_count": 5,
   "id": "b927f26b",
   "metadata": {},
   "outputs": [],
   "source": [
    "print(sp.prettify())\n"
   ]
  },
  {
   "cell_type": "code",
   "execution_count": 6,
   "id": "6007fd09",
   "metadata": {},
   "outputs": [
    {
     "name": "stdout",
     "output_type": "stream",
     "text": [
      "TCS\n",
      "Accenture\n",
      "Cognizant\n",
      "Wipro\n",
      "ICICI Bank\n",
      "HDFC Bank\n",
      "Infosys\n",
      "Capgemini\n",
      "Tech Mahindra\n",
      "HCLTech\n",
      "Genpact\n",
      "Axis Bank\n",
      "Concentrix Corporation\n",
      "Amazon\n",
      "Reliance Jio\n",
      "IBM\n",
      "Larsen & Toubro Limited\n",
      "HDB Financial Services\n",
      "Reliance Retail\n",
      "Teleperformance\n",
      "Companies by  Industry\n",
      "Companies by  Locations\n",
      "Companies by  Type\n",
      "Companies by  Badges\n"
     ]
    },
    {
     "data": {
      "text/plain": [
       "24"
      ]
     },
     "execution_count": 6,
     "metadata": {},
     "output_type": "execute_result"
    }
   ],
   "source": [
    "sp.find_all('h1')[0].text\n",
    "count=0\n",
    "for i in sp.find_all('h2'):\n",
    "    count=count+1\n",
    "    print(i.text.strip())\n",
    "count"
   ]
  },
  {
   "cell_type": "code",
   "execution_count": 7,
   "id": "fcde31ef",
   "metadata": {},
   "outputs": [],
   "source": [
    "for i in sp.find_all('p',class_='rating'):\n",
    "    print(i.text.strip())\n"
   ]
  },
  {
   "cell_type": "code",
   "execution_count": 8,
   "id": "ea8cb769",
   "metadata": {},
   "outputs": [
    {
     "name": "stdout",
     "output_type": "stream",
     "text": [
      "3.8\n",
      "4.1\n",
      "3.9\n",
      "3.8\n",
      "4.0\n",
      "3.9\n",
      "3.9\n",
      "3.9\n",
      "3.7\n",
      "3.7\n",
      "4.0\n",
      "3.8\n",
      "3.9\n",
      "4.2\n",
      "3.9\n",
      "4.1\n",
      "4.0\n",
      "4.0\n",
      "3.9\n",
      "3.6\n",
      "20\n"
     ]
    }
   ],
   "source": [
    "count=0\n",
    "for i in sp.find_all('span',class_='companyCardWrapper__companyRatingValue'):\n",
    "    count=count+1;\n",
    "    print(i.text.strip())\n",
    "print(count)"
   ]
  },
  {
   "cell_type": "code",
   "execution_count": 9,
   "id": "dab8c7f0",
   "metadata": {},
   "outputs": [],
   "source": [
    "company = sp.find_all('div',class_='companyCardWrapper')\n",
    "name=[]\n",
    "rating=[]\n",
    "reviews=[]\n",
    "jobs=[]\n",
    "salary_average=[]\n",
    "for i in range(0,20):\n",
    "    name.append(sp.find_all('h2',class_='companyCardWrapper__companyName')[i].text.strip())\n",
    "for i in range(0,20):\n",
    "    rating.append(sp.find_all('span',class_='companyCardWrapper__companyRatingValue')[i].text.strip())\n",
    "\n",
    "for i in range(0,20):\n",
    "    reviews.append(sp.find_all('span',class_='companyCardWrapper__ActionCount')[i].text.strip())\n"
   ]
  },
  {
   "cell_type": "code",
   "execution_count": 10,
   "id": "be778d08",
   "metadata": {},
   "outputs": [
    {
     "name": "stdout",
     "output_type": "stream",
     "text": [
      "['TCS', 'Accenture', 'Cognizant', 'Wipro', 'ICICI Bank', 'HDFC Bank', 'Infosys', 'Capgemini', 'Tech Mahindra', 'HCLTech', 'Genpact', 'Axis Bank', 'Concentrix Corporation', 'Amazon', 'Reliance Jio', 'IBM', 'Larsen & Toubro Limited', 'HDB Financial Services', 'Reliance Retail', 'Teleperformance']\n"
     ]
    }
   ],
   "source": [
    "print(name)\n"
   ]
  },
  {
   "cell_type": "code",
   "execution_count": 11,
   "id": "122180a1",
   "metadata": {},
   "outputs": [
    {
     "name": "stdout",
     "output_type": "stream",
     "text": [
      "['3.8', '4.1', '3.9', '3.8', '4.0', '3.9', '3.9', '3.9', '3.7', '3.7', '4.0', '3.8', '3.9', '4.2', '3.9', '4.1', '4.0', '4.0', '3.9', '3.6']\n"
     ]
    },
    {
     "data": {
      "text/plain": [
       "20"
      ]
     },
     "execution_count": 11,
     "metadata": {},
     "output_type": "execute_result"
    }
   ],
   "source": [
    "print(rating)\n",
    "len(rating)\n"
   ]
  },
  {
   "cell_type": "code",
   "execution_count": 12,
   "id": "f11273b4",
   "metadata": {},
   "outputs": [
    {
     "name": "stdout",
     "output_type": "stream",
     "text": [
      "['63.4k', '734.3k', '5.3k', '45', '25.5k', '64', '40.5k', '513.2k', '3.6k', '14.8k', '18.2k', '36', '36.9k', '496.8k', '3.2k', '567', '14.9k', '47', '33.6k', '370.1k']\n",
      "20\n"
     ]
    }
   ],
   "source": [
    "print(reviews)\n",
    "print(len(reviews))"
   ]
  },
  {
   "cell_type": "code",
   "execution_count": 13,
   "id": "e308bbc2",
   "metadata": {},
   "outputs": [
    {
     "name": "stdout",
     "output_type": "stream",
     "text": [
      "[]\n"
     ]
    }
   ],
   "source": [
    "print(salary_average)"
   ]
  },
  {
   "cell_type": "code",
   "execution_count": 14,
   "id": "3f10e1b6",
   "metadata": {},
   "outputs": [
    {
     "name": "stdout",
     "output_type": "stream",
     "text": [
      "120\n"
     ]
    }
   ],
   "source": [
    "re = sp.find_all('span',class_='companyCardWrapper__ActionCount')\n",
    "\n",
    "print(len(re))"
   ]
  },
  {
   "cell_type": "code",
   "execution_count": 15,
   "id": "bf652b6e",
   "metadata": {},
   "outputs": [
    {
     "name": "stdout",
     "output_type": "stream",
     "text": [
      "734.3k\n",
      "513.2k\n",
      "496.8k\n",
      "370.1k\n"
     ]
    }
   ],
   "source": [
    "print(re[1].text.strip())\n",
    "print(re[7].text.strip())\n",
    "print(re[13].text.strip())\n",
    "print(re[19].text.strip())"
   ]
  },
  {
   "cell_type": "code",
   "execution_count": 16,
   "id": "f541696b",
   "metadata": {},
   "outputs": [
    {
     "data": {
      "text/plain": [
       "['734.3k',\n",
       " '513.2k',\n",
       " '496.8k',\n",
       " '370.1k',\n",
       " '136.9k',\n",
       " '125.8k',\n",
       " '417.4k',\n",
       " '337.5k',\n",
       " '236.3k',\n",
       " '249.4k',\n",
       " '176.1k',\n",
       " '95k',\n",
       " '96.7k',\n",
       " '119.3k',\n",
       " '66.7k',\n",
       " '203.9k',\n",
       " '78.2k',\n",
       " '49.5k',\n",
       " '53.7k',\n",
       " '72.5k']"
      ]
     },
     "execution_count": 16,
     "metadata": {},
     "output_type": "execute_result"
    }
   ],
   "source": [
    "salary_average =[]\n",
    "for i in range(1,120,6):\n",
    "    salary_average.append((re[i].text.strip()))\n",
    "salary_average"
   ]
  },
  {
   "cell_type": "code",
   "execution_count": 17,
   "id": "f0816414",
   "metadata": {},
   "outputs": [],
   "source": [
    "data = {\n",
    "    'name':name,\n",
    "    'salary':salary_average,\n",
    "    'rating':rating,\n",
    "    'reviews':reviews\n",
    "}\n",
    "dataset = pd.DataFrame(data)"
   ]
  },
  {
   "cell_type": "code",
   "execution_count": 18,
   "id": "f49950a9",
   "metadata": {},
   "outputs": [
    {
     "data": {
      "text/html": [
       "<div>\n",
       "<style scoped>\n",
       "    .dataframe tbody tr th:only-of-type {\n",
       "        vertical-align: middle;\n",
       "    }\n",
       "\n",
       "    .dataframe tbody tr th {\n",
       "        vertical-align: top;\n",
       "    }\n",
       "\n",
       "    .dataframe thead th {\n",
       "        text-align: right;\n",
       "    }\n",
       "</style>\n",
       "<table border=\"1\" class=\"dataframe\">\n",
       "  <thead>\n",
       "    <tr style=\"text-align: right;\">\n",
       "      <th></th>\n",
       "      <th>name</th>\n",
       "      <th>salary</th>\n",
       "      <th>rating</th>\n",
       "      <th>reviews</th>\n",
       "    </tr>\n",
       "  </thead>\n",
       "  <tbody>\n",
       "    <tr>\n",
       "      <th>0</th>\n",
       "      <td>TCS</td>\n",
       "      <td>734.3k</td>\n",
       "      <td>3.8</td>\n",
       "      <td>63.4k</td>\n",
       "    </tr>\n",
       "    <tr>\n",
       "      <th>1</th>\n",
       "      <td>Accenture</td>\n",
       "      <td>513.2k</td>\n",
       "      <td>4.1</td>\n",
       "      <td>734.3k</td>\n",
       "    </tr>\n",
       "    <tr>\n",
       "      <th>2</th>\n",
       "      <td>Cognizant</td>\n",
       "      <td>496.8k</td>\n",
       "      <td>3.9</td>\n",
       "      <td>5.3k</td>\n",
       "    </tr>\n",
       "    <tr>\n",
       "      <th>3</th>\n",
       "      <td>Wipro</td>\n",
       "      <td>370.1k</td>\n",
       "      <td>3.8</td>\n",
       "      <td>45</td>\n",
       "    </tr>\n",
       "    <tr>\n",
       "      <th>4</th>\n",
       "      <td>ICICI Bank</td>\n",
       "      <td>136.9k</td>\n",
       "      <td>4.0</td>\n",
       "      <td>25.5k</td>\n",
       "    </tr>\n",
       "    <tr>\n",
       "      <th>5</th>\n",
       "      <td>HDFC Bank</td>\n",
       "      <td>125.8k</td>\n",
       "      <td>3.9</td>\n",
       "      <td>64</td>\n",
       "    </tr>\n",
       "    <tr>\n",
       "      <th>6</th>\n",
       "      <td>Infosys</td>\n",
       "      <td>417.4k</td>\n",
       "      <td>3.9</td>\n",
       "      <td>40.5k</td>\n",
       "    </tr>\n",
       "    <tr>\n",
       "      <th>7</th>\n",
       "      <td>Capgemini</td>\n",
       "      <td>337.5k</td>\n",
       "      <td>3.9</td>\n",
       "      <td>513.2k</td>\n",
       "    </tr>\n",
       "    <tr>\n",
       "      <th>8</th>\n",
       "      <td>Tech Mahindra</td>\n",
       "      <td>236.3k</td>\n",
       "      <td>3.7</td>\n",
       "      <td>3.6k</td>\n",
       "    </tr>\n",
       "    <tr>\n",
       "      <th>9</th>\n",
       "      <td>HCLTech</td>\n",
       "      <td>249.4k</td>\n",
       "      <td>3.7</td>\n",
       "      <td>14.8k</td>\n",
       "    </tr>\n",
       "    <tr>\n",
       "      <th>10</th>\n",
       "      <td>Genpact</td>\n",
       "      <td>176.1k</td>\n",
       "      <td>4.0</td>\n",
       "      <td>18.2k</td>\n",
       "    </tr>\n",
       "    <tr>\n",
       "      <th>11</th>\n",
       "      <td>Axis Bank</td>\n",
       "      <td>95k</td>\n",
       "      <td>3.8</td>\n",
       "      <td>36</td>\n",
       "    </tr>\n",
       "    <tr>\n",
       "      <th>12</th>\n",
       "      <td>Concentrix Corporation</td>\n",
       "      <td>96.7k</td>\n",
       "      <td>3.9</td>\n",
       "      <td>36.9k</td>\n",
       "    </tr>\n",
       "    <tr>\n",
       "      <th>13</th>\n",
       "      <td>Amazon</td>\n",
       "      <td>119.3k</td>\n",
       "      <td>4.2</td>\n",
       "      <td>496.8k</td>\n",
       "    </tr>\n",
       "    <tr>\n",
       "      <th>14</th>\n",
       "      <td>Reliance Jio</td>\n",
       "      <td>66.7k</td>\n",
       "      <td>3.9</td>\n",
       "      <td>3.2k</td>\n",
       "    </tr>\n",
       "    <tr>\n",
       "      <th>15</th>\n",
       "      <td>IBM</td>\n",
       "      <td>203.9k</td>\n",
       "      <td>4.1</td>\n",
       "      <td>567</td>\n",
       "    </tr>\n",
       "    <tr>\n",
       "      <th>16</th>\n",
       "      <td>Larsen &amp; Toubro Limited</td>\n",
       "      <td>78.2k</td>\n",
       "      <td>4.0</td>\n",
       "      <td>14.9k</td>\n",
       "    </tr>\n",
       "    <tr>\n",
       "      <th>17</th>\n",
       "      <td>HDB Financial Services</td>\n",
       "      <td>49.5k</td>\n",
       "      <td>4.0</td>\n",
       "      <td>47</td>\n",
       "    </tr>\n",
       "    <tr>\n",
       "      <th>18</th>\n",
       "      <td>Reliance Retail</td>\n",
       "      <td>53.7k</td>\n",
       "      <td>3.9</td>\n",
       "      <td>33.6k</td>\n",
       "    </tr>\n",
       "    <tr>\n",
       "      <th>19</th>\n",
       "      <td>Teleperformance</td>\n",
       "      <td>72.5k</td>\n",
       "      <td>3.6</td>\n",
       "      <td>370.1k</td>\n",
       "    </tr>\n",
       "  </tbody>\n",
       "</table>\n",
       "</div>"
      ],
      "text/plain": [
       "                       name  salary rating reviews\n",
       "0                       TCS  734.3k    3.8   63.4k\n",
       "1                 Accenture  513.2k    4.1  734.3k\n",
       "2                 Cognizant  496.8k    3.9    5.3k\n",
       "3                     Wipro  370.1k    3.8      45\n",
       "4                ICICI Bank  136.9k    4.0   25.5k\n",
       "5                 HDFC Bank  125.8k    3.9      64\n",
       "6                   Infosys  417.4k    3.9   40.5k\n",
       "7                 Capgemini  337.5k    3.9  513.2k\n",
       "8             Tech Mahindra  236.3k    3.7    3.6k\n",
       "9                   HCLTech  249.4k    3.7   14.8k\n",
       "10                  Genpact  176.1k    4.0   18.2k\n",
       "11                Axis Bank     95k    3.8      36\n",
       "12   Concentrix Corporation   96.7k    3.9   36.9k\n",
       "13                   Amazon  119.3k    4.2  496.8k\n",
       "14             Reliance Jio   66.7k    3.9    3.2k\n",
       "15                      IBM  203.9k    4.1     567\n",
       "16  Larsen & Toubro Limited   78.2k    4.0   14.9k\n",
       "17   HDB Financial Services   49.5k    4.0      47\n",
       "18          Reliance Retail   53.7k    3.9   33.6k\n",
       "19          Teleperformance   72.5k    3.6  370.1k"
      ]
     },
     "execution_count": 18,
     "metadata": {},
     "output_type": "execute_result"
    }
   ],
   "source": [
    "dataset"
   ]
  },
  {
   "cell_type": "code",
   "execution_count": null,
   "id": "3f1872ab",
   "metadata": {},
   "outputs": [],
   "source": []
  }
 ],
 "metadata": {
  "kernelspec": {
   "display_name": "Python 3 (ipykernel)",
   "language": "python",
   "name": "python3"
  },
  "language_info": {
   "codemirror_mode": {
    "name": "ipython",
    "version": 3
   },
   "file_extension": ".py",
   "mimetype": "text/x-python",
   "name": "python",
   "nbconvert_exporter": "python",
   "pygments_lexer": "ipython3",
   "version": "3.8.10"
  }
 },
 "nbformat": 4,
 "nbformat_minor": 5
}
