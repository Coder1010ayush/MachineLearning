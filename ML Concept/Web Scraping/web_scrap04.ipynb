{
 "cells": [
  {
   "cell_type": "code",
   "execution_count": 1,
   "id": "0a10cd6a",
   "metadata": {},
   "outputs": [],
   "source": [
    "import numpy as np\n",
    "import pandas as pd\n",
    "import matplotlib.pyplot as plt\n",
    "import requests\n",
    "import seaborn as sns\n",
    "import lxml\n",
    "from bs4 import BeautifulSoup\n"
   ]
  },
  {
   "cell_type": "code",
   "execution_count": 2,
   "id": "bd6e62fb",
   "metadata": {},
   "outputs": [],
   "source": [
    "headers = {'User-Agent': 'Mozilla/5.0 (Windows NT 6.3; Win64; x64) AppleWebKit/537.36 (KHTML, like Gecko) chrome/80.0.3987.162 Safari/537.36'}\n",
    "page = requests.get('http://yellowpages.in/hyderabad/education/421330778',headers=headers).text"
   ]
  },
  {
   "cell_type": "code",
   "execution_count": 3,
   "id": "115ef9cc",
   "metadata": {},
   "outputs": [],
   "source": [
    "soup = BeautifulSoup(page,\"lxml\")"
   ]
  },
  {
   "cell_type": "code",
   "execution_count": 4,
   "id": "4cea3f10",
   "metadata": {},
   "outputs": [],
   "source": [
    "print(soup.prettify())"
   ]
  },
  {
   "cell_type": "code",
   "execution_count": 4,
   "id": "b1d59166",
   "metadata": {},
   "outputs": [
    {
     "name": "stdout",
     "output_type": "stream",
     "text": [
      "['+91 9885626289', '+91 9347233324', '+91 9849733780', '+91 8341896037', '+91 40 40207220', '+91 9000903827', '+91 8008977141', '+91 9000620356', '+91 40 66320517', '+91 40 66616644', '+91 9908600600', '+91 9010364101', '+91 8108670890', '+91 9515883606', '+91 7848006789', '+91 9160002324', '+91 9030000309', '+91 9246463131', '+91 40 66255514', '+91 9849540792', '+91 8985842799', '+91 9246114545', '+91 9885391914', '+91 9133018062', '+91 9885428656']\n"
     ]
    }
   ],
   "source": [
    "business_contact=[]\n",
    "for i in range(25):\n",
    "    business_contact.append(soup.find_all('a',class_=\"businessContact\")[i].text)\n",
    "print(business_contact)"
   ]
  },
  {
   "cell_type": "code",
   "execution_count": 6,
   "id": "883bd057",
   "metadata": {},
   "outputs": [
    {
     "name": "stdout",
     "output_type": "stream",
     "text": [
      "['Ameerpet Hyderabad - 500016', 'Dilsukh Nagar Hyderabad - 500060', 'Ameerpet Hyderabad - 500016', 'Ameerpet Hyderabad - 500016', 'Ameerpet Hyderabad - 500016', 'Suchitra Cross Road Hyderabad - 500066', 'Paradise Hyderabad - 500003', 'Qutubullapur Hyderabad - 500090', 'Narayanguda Hyderabad - 500029', 'S R Nagar Hyderabad - 500038', 'Kukatpally Hyderabad - 500072', 'Ameerpet Hyderabad - 500016', 'Ameerpet Hyderabad - 500016', 'Mehdipatnam Hyderabad - 500028', 'Abids Hyderabad - 500001', 'Ameerpet Hyderabad - 500016', 'Kamatipura Hyderabad - 500064', 'Ameerpet Hyderabad - 500016', 'Ameerpet Hyderabad - 500016', 'Koti Hyderabad - 500095', 'Ameerpet Hyderabad - 500016', 'Manikonda Hyderabad - 500089', 'Ameerpet Hyderabad - 500016', 'Mehdipatnam Hyderabad - 500028', 'Ameerpet Hyderabad - 500016']\n"
     ]
    }
   ],
   "source": [
    "address_business =[]\n",
    "for i in range(25):\n",
    "    address_business.append(soup.find_all('address',class_=\"businessArea\")[i].text.strip())\n",
    "print(address_business)"
   ]
  },
  {
   "cell_type": "code",
   "execution_count": 7,
   "id": "b5d521c5",
   "metadata": {},
   "outputs": [
    {
     "name": "stdout",
     "output_type": "stream",
     "text": [
      "['Harsh Technologies', 'SteadFast Migration Solutions Private Limited', 'Mech Wind Technologies', 'NSB (National School of Banking)', 'Tanvi Soft Solutions', 'Aspire Edu and IT Solutions', 'CMS Training Institute', 'St. Pauls Teacher Training Institute', 'Spoorthy Study Circle', 'Redfire Digital Agency Private Limited', 'Abhyaas', 'MAT Software Solutions Private Limited', 'Digital Marketing Institute of Hyderabad', 'Aptech Computer Education', 'Lakhotia Institute of Design', 'Mentors', 'Z. M. Classes', 'Visit Spoken English', 'Laaptech IT Service', 'Made Easy', 'CS Tech Soft', 'KVN Dancing Studio', 'LR Cadzone Solutions Private Limited', 'VIPs International School', 'Kelly Technologies']\n"
     ]
    }
   ],
   "source": [
    "company_name =[]\n",
    "for i in range(25):\n",
    "    company_name.append(soup.find_all('a',class_=\"eachPopularTitle\")[i].text)\n",
    "print(company_name)"
   ]
  },
  {
   "cell_type": "code",
   "execution_count": 8,
   "id": "f6541419",
   "metadata": {},
   "outputs": [
    {
     "name": "stdout",
     "output_type": "stream",
     "text": [
      "3 \n"
     ]
    }
   ],
   "source": [
    "review_count = []\n",
    "for i in range(25):\n",
    "    str = ''.join(soup.find_all('a',class_=\"ratingCount\")[i])\n",
    "    str = str[ :len(str)-7]\n",
    "    review_count.append(str)\n",
    "print(review_count[0])"
   ]
  },
  {
   "cell_type": "code",
   "execution_count": 9,
   "id": "05422c26",
   "metadata": {},
   "outputs": [
    {
     "name": "stdout",
     "output_type": "stream",
     "text": [
      "['Software Training Institutes', 'Education Consultants', 'Software Certifications', 'Competitive Exams', 'Software Training Institutes', 'Education Consultants', 'Hardware And Network Tra, Software Certifications, Training Institutes', 'Spoken English Institutes', 'Competitive Exams', 'Software Training Institutes', 'Entrance Exams Coaching Centres, Training Institutes', 'Training Institutes', 'Training Institutes', 'Hardware And Network Tra, Software Training InstitutesTraining Institutes', 'Fashion Designing Training , Training Institutes', 'Software Training Institutes', 'Tuitions', 'Spoken English Institutes', 'Software Training Institutes', 'Uniforms', 'Software Training Institutes', 'Dance Academies', 'Project Management Trainin, Software Training InstitutesTraining Institutes', 'Education Schools', 'Training Institutes']\n"
     ]
    }
   ],
   "source": [
    "services_list =[]\n",
    "service=[]\n",
    "for i in range(25):\n",
    "    services_list.append(soup.find_all('ul',class_=\"eachPopularTagsList\")[i])\n",
    "    service.append(services_list[i].find('li').text)\n",
    "print(service)"
   ]
  },
  {
   "cell_type": "code",
   "execution_count": 11,
   "id": "3392ce05",
   "metadata": {},
   "outputs": [],
   "source": [
    "data ={\n",
    "    'comany':company_name,\n",
    "    'rating':review_count,\n",
    "    'services':service,\n",
    "    'address':address_business\n",
    "}\n",
    "df = pd.DataFrame(data)\n"
   ]
  },
  {
   "cell_type": "code",
   "execution_count": 12,
   "id": "1f27057b",
   "metadata": {},
   "outputs": [
    {
     "data": {
      "text/plain": [
       "'                                           comany rating                                                                     services                                 address\\n0                              Harsh Technologies     3                                                  Software Training Institutes             Ameerpet Hyderabad - 500016\\n1   SteadFast Migration Solutions Private Limited     0                                                         Education Consultants        Dilsukh Nagar Hyderabad - 500060\\n2                          Mech Wind Technologies     0                                                       Software Certifications             Ameerpet Hyderabad - 500016\\n3                NSB (National School of Banking)     0                                                             Competitive Exams             Ameerpet Hyderabad - 500016\\n4                            Tanvi Soft Solutions      1                                                 Software Training Institutes             Ameerpet Hyderabad - 500016\\n5                     Aspire Edu and IT Solutions     0                                                         Education Consultants  Suchitra Cross Road Hyderabad - 500066\\n6                          CMS Training Institute     0        Hardware And Network Tra, Software Certifications, Training Institutes             Paradise Hyderabad - 500003\\n7            St. Pauls Teacher Training Institute     0                                                     Spoken English Institutes         Qutubullapur Hyderabad - 500090\\n8                           Spoorthy Study Circle      1                                                            Competitive Exams          Narayanguda Hyderabad - 500029\\n9          Redfire Digital Agency Private Limited     0                                                  Software Training Institutes            S R Nagar Hyderabad - 500038\\n10                                        Abhyaas      1                         Entrance Exams Coaching Centres, Training Institutes           Kukatpally Hyderabad - 500072\\n11         MAT Software Solutions Private Limited     0                                                           Training Institutes             Ameerpet Hyderabad - 500016\\n12       Digital Marketing Institute of Hyderabad      1                                                          Training Institutes             Ameerpet Hyderabad - 500016\\n13                      Aptech Computer Education     0     Hardware And Network Tra, Software Training InstitutesTraining Institutes          Mehdipatnam Hyderabad - 500028\\n14                   Lakhotia Institute of Design     0                              Fashion Designing Training , Training Institutes                Abids Hyderabad - 500001\\n15                                        Mentors     0                                                  Software Training Institutes             Ameerpet Hyderabad - 500016\\n16                                  Z. M. Classes      1                                                                     Tuitions           Kamatipura Hyderabad - 500064\\n17                           Visit Spoken English     0                                                     Spoken English Institutes             Ameerpet Hyderabad - 500016\\n18                            Laaptech IT Service     0                                                  Software Training Institutes             Ameerpet Hyderabad - 500016\\n19                                      Made Easy     0                                                                      Uniforms                 Koti Hyderabad - 500095\\n20                                   CS Tech Soft     0                                                  Software Training Institutes             Ameerpet Hyderabad - 500016\\n21                             KVN Dancing Studio     0                                                               Dance Academies            Manikonda Hyderabad - 500089\\n22           LR Cadzone Solutions Private Limited     0   Project Management Trainin, Software Training InstitutesTraining Institutes             Ameerpet Hyderabad - 500016\\n23                      VIPs International School      1                                                            Education Schools          Mehdipatnam Hyderabad - 500028\\n24                             Kelly Technologies     0                                                           Training Institutes             Ameerpet Hyderabad - 500016'"
      ]
     },
     "execution_count": 12,
     "metadata": {},
     "output_type": "execute_result"
    }
   ],
   "source": [
    "df.to_string()"
   ]
  },
  {
   "cell_type": "code",
   "execution_count": 12,
   "id": "64125457",
   "metadata": {},
   "outputs": [],
   "source": [
    "df.to_csv('datasets/company_location.csv')"
   ]
  }
 ],
 "metadata": {
  "kernelspec": {
   "display_name": "Python 3 (ipykernel)",
   "language": "python",
   "name": "python3"
  },
  "language_info": {
   "codemirror_mode": {
    "name": "ipython",
    "version": 3
   },
   "file_extension": ".py",
   "mimetype": "text/x-python",
   "name": "python",
   "nbconvert_exporter": "python",
   "pygments_lexer": "ipython3",
   "version": "3.8.10"
  }
 },
 "nbformat": 4,
 "nbformat_minor": 5
}
