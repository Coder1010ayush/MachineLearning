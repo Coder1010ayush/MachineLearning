{
 "cells": [
  {
   "cell_type": "code",
   "execution_count": 1,
   "id": "7f4bcdfc",
   "metadata": {},
   "outputs": [],
   "source": [
    "import numpy as np\n",
    "import pandas as pd\n",
    "import requests\n",
    "import lxml\n",
    "import matplotlib.pyplot as plt\n",
    "from bs4 import BeautifulSoup"
   ]
  },
  {
   "cell_type": "code",
   "execution_count": 2,
   "id": "4d1c3ae1",
   "metadata": {},
   "outputs": [],
   "source": [
    "headers = {'User-Agent': 'Mozilla/5.0 (Windows NT 6.3; Win64; x64) AppleWebKit/537.36 (KHTML, like Gecko) chrome/80.0.3987.162 Safari/537.36'}\n",
    "page = requests.get('https://www.imdb.com/calendar/?ref_=rlm&region=IN&type=MOVIE',headers=headers).text"
   ]
  },
  {
   "cell_type": "code",
   "execution_count": 3,
   "id": "e6b1477d",
   "metadata": {},
   "outputs": [],
   "source": [
    "\n",
    "\n",
    "soup = BeautifulSoup(page,\"lxml\")"
   ]
  },
  {
   "cell_type": "code",
   "execution_count": 5,
   "id": "419a44ff",
   "metadata": {},
   "outputs": [
    {
     "name": "stdout",
     "output_type": "stream",
     "text": [
      "A Haunting in Venice (2023)\n"
     ]
    }
   ],
   "source": [
    "movie_name =[]\n",
    "for i in range(160):\n",
    "    movie_name.append(soup.find_all('a',class_=\"ipc-metadata-list-summary-item__t\")[i].text.strip())\n",
    "print(movie_name[0])"
   ]
  },
  {
   "cell_type": "code",
   "execution_count": 6,
   "id": "e0ac53a5",
   "metadata": {},
   "outputs": [],
   "source": [
    "\n",
    "final_movie_name =[]\n",
    "expected_release_year =[]\n",
    "for i in range(160):\n",
    "    str = movie_name[i]\n",
    "    new_str = str[len(str)-7:]\n",
    "    expected_release_year.append(new_str)\n",
    "    str = str[:len(str)-7]\n",
    "    str.replace(new_str,'')\n",
    "    final_movie_name.append(str)"
   ]
  },
  {
   "cell_type": "code",
   "execution_count": 7,
   "id": "9bc70f24",
   "metadata": {},
   "outputs": [
    {
     "name": "stdout",
     "output_type": "stream",
     "text": [
      "160\n"
     ]
    }
   ],
   "source": [
    "final_release_year = []\n",
    "a = int(expected_release_year[0][2:len(expected_release_year[0])-1])\n",
    "for i in range(160):\n",
    "    final_release_year.append(int(expected_release_year[i][2:len(expected_release_year[i])-1]))\n",
    "print(len(final_release_year))"
   ]
  },
  {
   "cell_type": "code",
   "execution_count": 8,
   "id": "a04858b8",
   "metadata": {},
   "outputs": [
    {
     "name": "stdout",
     "output_type": "stream",
     "text": [
      "160\n"
     ]
    }
   ],
   "source": [
    "info_list =[]\n",
    "for i in range(147):\n",
    "    pr = ''.join(soup.find_all('ul',class_=\"ipc-inline-list ipc-inline-list--show-dividers ipc-inline-list--no-wrap ipc-inline-list--inline ipc-metadata-list-summary-item__tl base\")[i].text+\" \")\n",
    "    info_list.append(pr)\n",
    "for i in range(13):\n",
    "    info_list.append('null')\n",
    "print(len(info_list))"
   ]
  },
  {
   "cell_type": "code",
   "execution_count": 9,
   "id": "065ddf89",
   "metadata": {},
   "outputs": [
    {
     "data": {
      "text/plain": [
       "['ActionComedyDrama']"
      ]
     },
     "execution_count": 9,
     "metadata": {},
     "output_type": "execute_result"
    }
   ],
   "source": [
    "pr = ''.join(soup.find_all('ul',class_=\"ipc-inline-list ipc-inline-list--show-dividers ipc-inline-list--no-wrap ipc-inline-list--inline ipc-metadata-list-summary-item__tl base\")[1].text)\n",
    "li =[]\n",
    "li.append(pr)\n",
    "li\n"
   ]
  },
  {
   "cell_type": "code",
   "execution_count": 10,
   "id": "ed3a8a11",
   "metadata": {},
   "outputs": [],
   "source": [
    "movie_artist =[]\n",
    "for i in range(160):\n",
    "    str =\"\"\n",
    "    movie_artist.append(''.join(soup.find_all('ul',class_=\"ipc-inline-list ipc-inline-list--show-dividers ipc-inline-list--no-wrap ipc-inline-list--inline ipc-metadata-list-summary-item__stl base\")[i].text+\" \"))\n",
    "    "
   ]
  },
  {
   "cell_type": "code",
   "execution_count": 11,
   "id": "4ecfeb52",
   "metadata": {},
   "outputs": [
    {
     "name": "stdout",
     "output_type": "stream",
     "text": [
      "160\n",
      "160\n"
     ]
    }
   ],
   "source": [
    "print(len(final_movie_name))\n",
    "print(len(final_release_year))"
   ]
  },
  {
   "cell_type": "code",
   "execution_count": 12,
   "id": "d90413b3",
   "metadata": {},
   "outputs": [],
   "source": [
    " data = {\n",
    "        'name':final_movie_name,\n",
    "        'Year':final_release_year,\n",
    "         'genre':info_list,\n",
    "        'artist':movie_artist\n",
    "        }\n",
    "final = pd.DataFrame(data)"
   ]
  },
  {
   "cell_type": "code",
   "execution_count": 13,
   "id": "e4f5c1d8",
   "metadata": {},
   "outputs": [
    {
     "data": {
      "text/html": [
       "<div>\n",
       "<style scoped>\n",
       "    .dataframe tbody tr th:only-of-type {\n",
       "        vertical-align: middle;\n",
       "    }\n",
       "\n",
       "    .dataframe tbody tr th {\n",
       "        vertical-align: top;\n",
       "    }\n",
       "\n",
       "    .dataframe thead th {\n",
       "        text-align: right;\n",
       "    }\n",
       "</style>\n",
       "<table border=\"1\" class=\"dataframe\">\n",
       "  <thead>\n",
       "    <tr style=\"text-align: right;\">\n",
       "      <th></th>\n",
       "      <th>name</th>\n",
       "      <th>Year</th>\n",
       "      <th>genre</th>\n",
       "      <th>artist</th>\n",
       "    </tr>\n",
       "  </thead>\n",
       "  <tbody>\n",
       "    <tr>\n",
       "      <th>0</th>\n",
       "      <td>A Haunting in Venice</td>\n",
       "      <td>2023</td>\n",
       "      <td>CrimeDramaHorror</td>\n",
       "      <td>Kenneth BranaghMichelle YeohJamie DornanTina Fey</td>\n",
       "    </tr>\n",
       "    <tr>\n",
       "      <th>1</th>\n",
       "      <td>Mark Antony</td>\n",
       "      <td>2023</td>\n",
       "      <td>ActionComedyDrama</td>\n",
       "      <td>VishalSunilS.J. SuryahKarthi</td>\n",
       "    </tr>\n",
       "    <tr>\n",
       "      <th>2</th>\n",
       "      <td>Hu Ane Tu</td>\n",
       "      <td>2023</td>\n",
       "      <td>Drama</td>\n",
       "      <td>Siddharth RanderiaSonali Lele DesaiPuja JoshiP...</td>\n",
       "    </tr>\n",
       "    <tr>\n",
       "      <th>3</th>\n",
       "      <td>Buhe Bariyan</td>\n",
       "      <td>2023</td>\n",
       "      <td>ActionDramaThriller</td>\n",
       "      <td>Neeru BajwaSimone SinghGurpreet BhanguNirmal R...</td>\n",
       "    </tr>\n",
       "    <tr>\n",
       "      <th>4</th>\n",
       "      <td>Ramanna Youth</td>\n",
       "      <td>2023</td>\n",
       "      <td>BiographyDrama</td>\n",
       "      <td>Srikanth IyengarAbhay BethigantiBunny AbiranVi...</td>\n",
       "    </tr>\n",
       "  </tbody>\n",
       "</table>\n",
       "</div>"
      ],
      "text/plain": [
       "                   name  Year                 genre  \\\n",
       "0  A Haunting in Venice  2023     CrimeDramaHorror    \n",
       "1           Mark Antony  2023    ActionComedyDrama    \n",
       "2             Hu Ane Tu  2023                Drama    \n",
       "3          Buhe Bariyan  2023  ActionDramaThriller    \n",
       "4         Ramanna Youth  2023       BiographyDrama    \n",
       "\n",
       "                                              artist  \n",
       "0  Kenneth BranaghMichelle YeohJamie DornanTina Fey   \n",
       "1                      VishalSunilS.J. SuryahKarthi   \n",
       "2  Siddharth RanderiaSonali Lele DesaiPuja JoshiP...  \n",
       "3  Neeru BajwaSimone SinghGurpreet BhanguNirmal R...  \n",
       "4  Srikanth IyengarAbhay BethigantiBunny AbiranVi...  "
      ]
     },
     "execution_count": 13,
     "metadata": {},
     "output_type": "execute_result"
    }
   ],
   "source": [
    "final.head()"
   ]
  },
  {
   "cell_type": "code",
   "execution_count": 15,
   "id": "017a5a50",
   "metadata": {},
   "outputs": [
    {
     "name": "stdout",
     "output_type": "stream",
     "text": [
      "                   name  Year                 genre  \\\n",
      "0  A Haunting in Venice  2023     CrimeDramaHorror    \n",
      "1           Mark Antony  2023    ActionComedyDrama    \n",
      "2             Hu Ane Tu  2023                Drama    \n",
      "3          Buhe Bariyan  2023  ActionDramaThriller    \n",
      "4         Ramanna Youth  2023       BiographyDrama    \n",
      "\n",
      "                                              artist  \n",
      "0  Kenneth BranaghMichelle YeohJamie DornanTina Fey   \n",
      "1                      VishalSunilS.J. SuryahKarthi   \n",
      "2  Siddharth RanderiaSonali Lele DesaiPuja JoshiP...  \n",
      "3  Neeru BajwaSimone SinghGurpreet BhanguNirmal R...  \n",
      "4  Srikanth IyengarAbhay BethigantiBunny AbiranVi...  \n"
     ]
    }
   ],
   "source": [
    "print(final.head())"
   ]
  },
  {
   "cell_type": "code",
   "execution_count": 16,
   "id": "2050d355",
   "metadata": {},
   "outputs": [],
   "source": [
    "final.to_csv('future_release_movie_list.csv')"
   ]
  },
  {
   "cell_type": "code",
   "execution_count": null,
   "id": "52cd4d14",
   "metadata": {},
   "outputs": [],
   "source": []
  }
 ],
 "metadata": {
  "kernelspec": {
   "display_name": "Python 3 (ipykernel)",
   "language": "python",
   "name": "python3"
  },
  "language_info": {
   "codemirror_mode": {
    "name": "ipython",
    "version": 3
   },
   "file_extension": ".py",
   "mimetype": "text/x-python",
   "name": "python",
   "nbconvert_exporter": "python",
   "pygments_lexer": "ipython3",
   "version": "3.8.10"
  }
 },
 "nbformat": 4,
 "nbformat_minor": 5
}
